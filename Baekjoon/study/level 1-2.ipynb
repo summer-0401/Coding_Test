{
 "metadata": {
  "language_info": {
   "codemirror_mode": {
    "name": "ipython",
    "version": 3
   },
   "file_extension": ".py",
   "mimetype": "text/x-python",
   "name": "python",
   "nbconvert_exporter": "python",
   "pygments_lexer": "ipython3",
   "version": "3.9.5"
  },
  "orig_nbformat": 2,
  "kernelspec": {
   "name": "python395jvsc74a57bd0ce1e901da04acbe50dd99cd0d91cb411cb2166c3507dec81ce620981a8df4741",
   "display_name": "Python 3.9.5 64-bit"
  },
  "metadata": {
   "interpreter": {
    "hash": "ce1e901da04acbe50dd99cd0d91cb411cb2166c3507dec81ce620981a8df4741"
   }
  }
 },
 "nbformat": 4,
 "nbformat_minor": 2,
 "cells": [
  {
   "source": [
    "#[Baekjoon] Level 1-2"
   ],
   "cell_type": "markdown",
   "metadata": {}
  },
  {
   "source": [
    "##101017"
   ],
   "cell_type": "markdown",
   "metadata": {}
  },
  {
   "source": [
    "###파이썬에서 '\\' 출력하기"
   ],
   "cell_type": "markdown",
   "metadata": {}
  },
  {
   "source": [
    "print(\"\\    /\\\") #오류"
   ],
   "cell_type": "code",
   "metadata": {},
   "execution_count": 10,
   "outputs": [
    {
     "output_type": "error",
     "ename": "SyntaxError",
     "evalue": "EOL while scanning string literal (<ipython-input-10-fa75351505b8>, line 1)",
     "traceback": [
      "\u001b[1;36m  File \u001b[1;32m\"<ipython-input-10-fa75351505b8>\"\u001b[1;36m, line \u001b[1;32m1\u001b[0m\n\u001b[1;33m    print(\"\\    /\\\") #오류\u001b[0m\n\u001b[1;37m                        ^\u001b[0m\n\u001b[1;31mSyntaxError\u001b[0m\u001b[1;31m:\u001b[0m EOL while scanning string literal\n"
     ]
    }
   ]
  },
  {
   "source": [
    "print(\"\\    /\\\\\") #'\\' 출력하려면 '\\\\' 입력"
   ],
   "cell_type": "code",
   "metadata": {},
   "execution_count": 11,
   "outputs": [
    {
     "output_type": "stream",
     "name": "stdout",
     "text": [
      "\\    /\\\n"
     ]
    }
   ]
  },
  {
   "source": [
    "##2588"
   ],
   "cell_type": "markdown",
   "metadata": {}
  },
  {
   "source": [
    "###range step 정하기"
   ],
   "cell_type": "markdown",
   "metadata": {}
  },
  {
   "source": [
    "for i in range(5,-1,-1): #5부터 0까지 -1씩 이동\n",
    "    print(i)"
   ],
   "cell_type": "code",
   "metadata": {},
   "execution_count": 12,
   "outputs": [
    {
     "output_type": "stream",
     "name": "stdout",
     "text": [
      "5\n4\n3\n2\n1\n0\n"
     ]
    }
   ]
  },
  {
   "source": [
    "##1330"
   ],
   "cell_type": "markdown",
   "metadata": {}
  },
  {
   "source": [
    "###간단한 if문(print 안에 넣어도 됨)"
   ],
   "cell_type": "markdown",
   "metadata": {}
  },
  {
   "source": [
    "def result(a,b):\n",
    "    return '>' if a>b else('<' if a<b else'==')\n",
    "\n",
    "print(\"a>b\", result(10,1))\n",
    "print(\"a<b\", result(1,10))\n",
    "print(\"a==b\", result(1,1))"
   ],
   "cell_type": "code",
   "metadata": {},
   "execution_count": 14,
   "outputs": [
    {
     "output_type": "stream",
     "name": "stdout",
     "text": [
      "a>b >\na<b <\na==b ==\n"
     ]
    }
   ]
  },
  {
   "source": [
    "참고: https://www.acmicpc.net/source/16515483"
   ],
   "cell_type": "markdown",
   "metadata": {}
  },
  {
   "source": [
    "##2884"
   ],
   "cell_type": "markdown",
   "metadata": {}
  },
  {
   "source": [
    "###시간 계산하기"
   ],
   "cell_type": "markdown",
   "metadata": {}
  },
  {
   "source": [
    "h, m = map(int, input().split())\n",
    "\n",
    "x = h*60 + m - 45\n",
    "print(x//60%24, x%60)"
   ],
   "cell_type": "code",
   "metadata": {},
   "execution_count": 15,
   "outputs": [
    {
     "output_type": "stream",
     "name": "stdout",
     "text": [
      "23 45\n"
     ]
    }
   ]
  },
  {
   "source": [
    "// 연산자: 나누어 정수만 취함\n",
    "참고: https://www.acmicpc.net/source/8837525"
   ],
   "cell_type": "markdown",
   "metadata": {}
  }
 ]
}